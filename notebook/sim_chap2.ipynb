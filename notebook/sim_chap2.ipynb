{
 "cells": [
  {
   "cell_type": "code",
   "execution_count": 1,
   "metadata": {},
   "outputs": [
    {
     "name": "stdout",
     "output_type": "stream",
     "text": [
      "Using matplotlib backend: TkAgg\n"
     ]
    }
   ],
   "source": [
    "import numpy as np\n",
    "import matplotlib.pyplot as plt\n",
    "from scw import SCW1, SCW2\n",
    "import pandas as pd\n",
    "import seaborn as sns\n",
    "from sklearn.model_selection import train_test_split\n",
    "from sklearn.metrics import accuracy_score, hinge_loss\n",
    "from sklearn.utils import shuffle\n",
    "from skgarden import MondrianForestClassifier\n",
    "import sys\n",
    "sys.path.append('../../Passive_Aggressive')\n",
    "from passive_aggressive import PassiveAggressive\n",
    "\n",
    "\n",
    "from functions import  NormalExample, cesa_up_final, Touati_up_final, cesa_up_bd, Touati_up_bd, Touati_up_bd_2, Touati_up_final_2, f_t_Touati, f_t_cesa\n",
    "%matplotlib \n",
    "\n",
    "%load_ext autoreload\n",
    "%autoreload 2"
   ]
  },
  {
   "cell_type": "code",
   "execution_count": 4,
   "metadata": {},
   "outputs": [],
   "source": [
    "# Linearly Separable Data\n",
    "example1 = NormalExample(dim=2, mean=[0.0, 0.0], cov=[[1.1, 0.1], [0.1, 1.1]])\n",
    "example2 = NormalExample(dim=2, mean=[3, 3], cov=[[1.2, 0.2], [0.2, 1.2]])\n",
    "\n",
    "n1 =5000\n",
    "n2 = 5000\n",
    "samples1 = example1.get_data(n1)\n",
    "samples2 = example2.get_data(n2)\n",
    "\n",
    "# Plotting Data\n",
    "fig, ax = plt.subplots(figsize=(7, 4))\n",
    "ax.scatter(samples1[:, 0], samples1[:, 1],\n",
    "            c='#FF0000', marker='+', linewidth=1)\n",
    "ax.scatter(samples2[:, 0], samples2[:, 1],\n",
    "            c='#0000FF', marker=\"_\", linewidth=1)\n",
    "fig.tight_layout()"
   ]
  },
  {
   "cell_type": "code",
   "execution_count": 5,
   "metadata": {
    "collapsed": true
   },
   "outputs": [],
   "source": [
    "#Non Linearly Separable Data\n",
    "\n",
    "def nonlinear_model(rseed=42, n_samples=10000):\n",
    "    radius = 40 * np.random.random(n_samples)\n",
    "    far_pts = radius > 20\n",
    "    radius[far_pts] *= 1.2\n",
    "    radius[~far_pts] *= 1.1\n",
    "    theta = np.random.random(n_samples) * np.pi * 2\n",
    "    data = np.empty((n_samples, 2))\n",
    "    data[:, 0] = radius * np.cos(theta)\n",
    "    data[:, 1] = radius * np.sin(theta)\n",
    "    labels = np.ones(n_samples)\n",
    "    labels[far_pts] = -1\n",
    "    X1 = pd.DataFrame(data[:,0])\n",
    "    X2 = pd.DataFrame(data[:,1])\n",
    "    Y = pd.DataFrame(labels)\n",
    "    df = pd.concat([X1,X2,Y],axis=1)\n",
    "    df.columns = [\"1\",\"2\",\"y\"]\n",
    "    return df\n",
    "df_n=nonlinear_model()"
   ]
  },
  {
   "cell_type": "code",
   "execution_count": 28,
   "metadata": {
    "collapsed": true
   },
   "outputs": [],
   "source": [
    "# Data 1\n",
    "#linearly separable data set "
   ]
  },
  {
   "cell_type": "code",
   "execution_count": 6,
   "metadata": {},
   "outputs": [
    {
     "data": {
      "text/plain": [
       "<matplotlib.axes._subplots.AxesSubplot at 0x1c1271d0>"
      ]
     },
     "execution_count": 6,
     "metadata": {},
     "output_type": "execute_result"
    }
   ],
   "source": [
    "X1 = pd.DataFrame(np.c_[samples1, -np.ones(samples1.shape[0], )])\n",
    "X2 = pd.DataFrame(np.c_[samples2, np.ones(samples2.shape[0], )])\n",
    "df = pd.concat([X1, X2])\n",
    "df = shuffle(df).reset_index(drop=True)\n",
    "df.columns = ['1', '2', 'y']\n",
    "#sns.scatterplot(data=df, x='1', y='2', hue='y')\n",
    "sns.scatterplot(data=df, x='1', y='2', hue='y')\n",
    "#df.head()\n",
    "#df_n.head()"
   ]
  },
  {
   "cell_type": "code",
   "execution_count": 7,
   "metadata": {
    "collapsed": true
   },
   "outputs": [],
   "source": [
    "from tqdm import tqdm_notebook\n",
    "def model(example,model_type = \"Passive agressive\"):\n",
    "    if example == \"bounds on linearly seprable simulation\":\n",
    "        df = pd.concat([X1, X2])\n",
    "        df = shuffle(df).reset_index(drop=True)\n",
    "        df.columns = ['1', '2', 'y']\n",
    "        features = ['1', '2']\n",
    "        target = 'y'\n",
    "        X = df[features].values\n",
    "        y = df[target].values\n",
    "        all_ranges = [[2,100], [100, 1000], [1000, 5000], [5000, len(X)]]\n",
    "    elif example == \"bounds on non linearly seprable simulation\":\n",
    "        df=nonlinear_model()\n",
    "        features = ['1', '2']\n",
    "        target = 'y'\n",
    "        X = df[features].values\n",
    "        y = df[target].values\n",
    "        all_ranges = [[2,100], [100, 1000], [1000, 5000], [5000, len(X)]]\n",
    "    elif example == \"bounds on ionosphere data set\":\n",
    "        df = pd.read_csv('../data/ionosphere.Data', header=None)\n",
    "        target = 34\n",
    "        features = df.columns.difference([target])\n",
    "        df[target] = (df[target] == 'g') * 2 - 1\n",
    "        X = df[features].values\n",
    "        y = df[target].values\n",
    "        all_ranges = [[2, 50], [50, 100], [100, 200], [200, len(X)]]\n",
    "    elif example == \"bounds on breast cancer data set\":\n",
    "        import sklearn.datasets\n",
    "        df = sklearn.datasets.load_breast_cancer()\n",
    "        df = pd.concat([pd.DataFrame(df['data']), pd.Series(df['target'], name='y')], 1)\n",
    "        target = 'y'\n",
    "        features = df.columns.difference([target])\n",
    "        X = df[features].values\n",
    "        y = df[target].values\n",
    "        y = (y == 1) * 2 - 1.\n",
    "        all_ranges = [[2, 100], [100,200], [200, 350], [350, len(X)]]\n",
    "\n",
    "    all_list_n = []\n",
    "    all_missclass = []\n",
    "    list_k = []\n",
    "    print(X.shape)\n",
    "    for spread in tqdm_notebook(all_ranges):\n",
    "        list_n = np.linspace(spread[0], spread[1], 10, endpoint=False).astype(int)\n",
    "\n",
    "        missclas = np.zeros((len(list_n), ))\n",
    "        for k, n in enumerate(list_n):\n",
    "            model_pa = PassiveAggressive()\n",
    "            model_scw = SCW1(C=1, ETA=1)\n",
    "            #model_keras = keras_model(X)\n",
    "            model = model_pa\n",
    "            if model_type == \"Passive agressive\":\n",
    "                model = model_pa # IMPORTANT: Change this to change the model\n",
    "            else:\n",
    "                model = model_scw\n",
    "            n_features = len(features)\n",
    "            scores = np.zeros((n-1, ))\n",
    "            losses = np.zeros((n-1, ))\n",
    "\n",
    "            # We fit the first element\n",
    "            x0 = X[0].reshape(1, -1)\n",
    "            y0 = y[0].reshape(-1, 1)\n",
    "\n",
    "            if type(model) == PassiveAggressive:\n",
    "                 model.fit(x0[0], y0[0][0])\n",
    "            elif type(model) == SCW1:\n",
    "                model = model.fit(x0, y0)\n",
    "            elif type(model) == MondrianForestClassifier:\n",
    "                model = model.fit(x0, y0)\n",
    "            elif type(model) == KerasClassifier:\n",
    "                model = model.fit(x0, y0)\n",
    "\n",
    "            y_pred = np.zeros((n-1, ))\n",
    "            y_pred_max = np.zeros((n-1, ))\n",
    "            for i in range(0, n-1):\n",
    "                # Prediction\n",
    "                if type(model) == PassiveAggressive:\n",
    "                    w = model.w\n",
    "                elif type(model) == SCW1:\n",
    "                    w = model.weights.ravel()\n",
    "                X_next = X[i+1]\n",
    "                y_pred[i] = 1 if (np.dot(X_next, w) > 0) else - 1\n",
    "\n",
    "                xi = df[features].iloc[i+1].to_dict()\n",
    "\n",
    "                # Fitting algorithm with new data\n",
    "                if type(model) == PassiveAggressive:\n",
    "                    model.fit(X_next, y[i+1])\n",
    "                elif type(model) == SCW1:\n",
    "                    model.update(X_next.reshape(-1, 1), y[i+1])\n",
    "\n",
    "            missclas[k] = 1 - accuracy_score(y[1:n], y_pred)\n",
    "        all_list_n.append(list_n)\n",
    "        all_missclass.append(missclas)\n",
    "    \n",
    "    return all_list_n,all_missclass"
   ]
  },
  {
   "cell_type": "code",
   "execution_count": 8,
   "metadata": {
    "collapsed": true
   },
   "outputs": [],
   "source": [
    "import numpy as np\n",
    "import matplotlib.pyplot as plt\n",
    "import scipy.optimize\n",
    "\n",
    "def Touati_up_bd(x, n , delta): \n",
    "    y = x - np.sqrt( ( (1-x)**2/np.log(1/x) ) * np.log(1/delta)/n)\n",
    "    return y\n",
    "def touati_bound():\n",
    "    n = 100\n",
    "    delta = 0.01\n",
    "\n",
    "    all_y = np.linspace(0, 1, 100)\n",
    "    all_x = []\n",
    "    for y in all_y:\n",
    "        error = lambda x: (Touati_up_bd(x, n, delta) - y)**2\n",
    "        res = scipy.optimize.minimize(error, x0=0.5, bounds=[(0.01, 0.999)])\n",
    "        all_x.append(res.x[0])\n",
    "\n",
    "    bound_touati2 = np.array(all_x)\n",
    "    return bound_touati2"
   ]
  },
  {
   "cell_type": "code",
   "execution_count": 9,
   "metadata": {
    "collapsed": true
   },
   "outputs": [],
   "source": [
    "bound_touati2 = touati_bound()"
   ]
  },
  {
   "cell_type": "code",
   "execution_count": 21,
   "metadata": {
    "collapsed": true
   },
   "outputs": [],
   "source": [
    "\n",
    "def plot_one_bound(example,model_type):\n",
    "    all_list_n,all_missclass = model(example,model_type) \n",
    "    delta = 0.01\n",
    "    a = 0.13 # Worst Case\n",
    "    a1= optimal_bound(all_list_n,all_missclass) # Optimal bound\n",
    "    all_bounds_touati = []\n",
    "    all_bounds_touati1 = []\n",
    "    all_bounds_cesa = []\n",
    "    all_bounds_risk=[]\n",
    "    all_bounds_touati2=[]\n",
    "    for i, spread in enumerate(all_list_n):\n",
    "        for j, n in enumerate(spread):\n",
    "            y = all_missclass[i][j]\n",
    "            all_bounds_risk.append(y)\n",
    "            bound_touati1 = Touati_up_final(y, n, delta,a1) \n",
    "            bound_touati = Touati_up_final(y, n, delta,a)   \n",
    "            bound_cesa = cesa_up_final(y, n, delta)\n",
    "            all_bounds_touati.append(bound_touati)\n",
    "            all_bounds_touati1.append(bound_touati1)\n",
    "            all_bounds_cesa.append(bound_cesa)\n",
    "            all_bounds_touati2.append(bound_touati2)\n",
    "\n",
    "    all_bounds_touati2 = Touati_up_final_2(all_bounds_risk, n, delta)\n",
    "\n",
    "    fig, ax = plt.subplots(figsize=(8, 6))\n",
    "    x = np.concatenate(all_list_n)\n",
    "\n",
    "    ax.plot(x, all_bounds_risk, label=\"Empirical risk\")\n",
    "    ax.plot(x, all_bounds_touati1, label=\"Touati optimal bound, a=\"+str(round(a1,3)))\n",
    "    ax.plot(x, all_bounds_touati, label=\"Touati bound, a=\"+str(a))\n",
    "    ax.plot(x, all_bounds_cesa, label=\"Cesa-Bianchi and Gentile bound\")\n",
    "    ax.plot(x, all_bounds_touati2, label=\"Touati improved optimal bound\")\n",
    "    ax.set_yscale('log')\n",
    "    # ax.set_xscale('log')\n",
    "    ax.plot(x, [1]*len(x), '--', label=\"Limit\")\n",
    "    ax.set_title(model_type + \" : \"+example)\n",
    "    ax.set_ylabel('Risk')\n",
    "    ax.set_xlabel('n')\n",
    "    ax.legend(loc=0)\n",
    "    fig.tight_layout()\n",
    "    return fig"
   ]
  },
  {
   "cell_type": "code",
   "execution_count": 32,
   "metadata": {},
   "outputs": [
    {
     "name": "stdout",
     "output_type": "stream",
     "text": [
      "(10000, 2)\n",
      "\n",
      "0.2400000000000001\n",
      "0.14141645704436598\n",
      "(10000, 2)\n",
      "\n",
      "0.28000000000000014\n",
      "0.20493129739416113\n",
      "(10000, 2)\n",
      "\n",
      "0.2600000000000001\n",
      "0.20444679539328245\n",
      "(10000, 2)\n",
      "\n",
      "0.28000000000000014\n",
      "0.24861629174252653\n"
     ]
    }
   ],
   "source": [
    "fig0_scw = plot_one_bound(\"bounds on linearly seprable simulation\",\"SCW\")\n",
    "fig1_scw = plot_one_bound(\"bounds on non linearly seprable simulation\",\"SCW\")\n",
    "#fig2_scw = plot_one_bound(\"bounds on ionosphere data set\",\"SCW\")\n",
    "#fig3_scw = plot_one_bound(\"bounds on breast cancer data set\",\"SCW\")\n",
    "\n",
    "\n",
    "fig0_pa = plot_one_bound(\"bounds on linearly seprable simulation\",\"Passive agressive\")\n",
    "fig1_pa = plot_one_bound(\"bounds on non linearly seprable simulation\",\"Passive agressive\")\n",
    "#fig2_pa = plot_one_bound(\"bounds on ionosphere data set\",\"Passive agressive\")\n",
    "#fig3_pa = plot_one_bound(\"bounds on breast cancer data set\",\"Passive agressive\")\n"
   ]
  },
  {
   "cell_type": "markdown",
   "metadata": {},
   "source": [
    "## Optimal bound"
   ]
  },
  {
   "cell_type": "code",
   "execution_count": 11,
   "metadata": {
    "collapsed": true,
    "scrolled": true
   },
   "outputs": [],
   "source": [
    "def rmse(predictions, targets):\n",
    "    return np.mean(np.abs(predictions - targets))\n",
    "\n",
    "def optimal_bound(all_list_n,all_missclass):\n",
    "    start = 0.13\n",
    "    end = 9/16\n",
    "    a = np.arange(start,end,0.01)\n",
    "\n",
    "    delta = 0.01\n",
    "    all_bounds_touati = []\n",
    "    all_bounds_cesa = []\n",
    "    all_bounds_risk=[]\n",
    "    list_score = []\n",
    "    for a_i in a:\n",
    "        for i, spread in enumerate(all_list_n):\n",
    "            for j, n in enumerate(spread):\n",
    "                y = all_missclass[i][j]\n",
    "                all_bounds_risk.append(y)\n",
    "                bound_touati = Touati_up_final(y, n, delta,a_i)\n",
    "                bound_cesa = cesa_up_final(y, n, delta)\n",
    "                all_bounds_touati.append(bound_touati)\n",
    "                all_bounds_cesa.append(bound_cesa)\n",
    "\n",
    "        score = rmse(np.array(bound_touati),np.array(all_bounds_risk))\n",
    "        list_score.append(score)\n",
    "\n",
    "    fig, ax = plt.subplots(figsize=(7, 4))\n",
    "    x = np.concatenate(all_list_n)\n",
    "\n",
    "\n",
    "    ax.plot(a, list_score, label=\"Empirical risk\")\n",
    "\n",
    "    fig.tight_layout()\n",
    "    print(a[np.argmin(list_score)])\n",
    "    print(min(list_score))\n",
    "    #s = pd.Series(all_missclass)\n",
    "    #print(s.isna().sum())\n",
    "    #print(s)\n",
    "    return a[np.argmin(list_score)]"
   ]
  },
  {
   "cell_type": "code",
   "execution_count": 3,
   "metadata": {},
   "outputs": [
    {
     "name": "stdout",
     "output_type": "stream",
     "text": [
      "Warning: Cannot change to a different GUI toolkit: notebook. Using tk instead.\n"
     ]
    },
    {
     "name": "stderr",
     "output_type": "stream",
     "text": [
      "Traceback (most recent call last):\n",
      "  File \"C:\\Users\\Touati\\Anaconda3\\lib\\site-packages\\matplotlib\\cbook\\__init__.py\", line 215, in process\n",
      "    func(*args, **kwargs)\n",
      "  File \"C:\\Users\\Touati\\Anaconda3\\lib\\site-packages\\matplotlib\\animation.py\", line 999, in _start\n",
      "    self._init_draw()\n",
      "  File \"C:\\Users\\Touati\\Anaconda3\\lib\\site-packages\\matplotlib\\animation.py\", line 1740, in _init_draw\n",
      "    self._draw_frame(next(self.new_frame_seq()))\n",
      "  File \"C:\\Users\\Touati\\Anaconda3\\lib\\site-packages\\matplotlib\\animation.py\", line 1762, in _draw_frame\n",
      "    self._drawn_artists = self._func(framedata, *self._args)\n",
      "  File \"<ipython-input-3-0ed3a59135b1>\", line 17, in animate\n",
      "    for i, spread in enumerate(all_list_n):\n",
      "NameError: name 'all_list_n' is not defined\n"
     ]
    }
   ],
   "source": [
    "import matplotlib.pyplot as plt\n",
    "import matplotlib.animation as animation\n",
    "from matplotlib import style\n",
    "%matplotlib notebook\n",
    "\n",
    "style.use('fivethirtyeight')\n",
    "\n",
    "fig = plt.figure(figsize=(15,8))\n",
    "ax = fig.add_subplot(1,1,1)\n",
    "\n",
    "def animate(i):\n",
    "    delta = 0.01\n",
    "\n",
    "    all_bounds_touati = []\n",
    "    all_bounds_cesa = []\n",
    "    all_bounds_risk=[]\n",
    "    for i, spread in enumerate(all_list_n):\n",
    "        for j, n in enumerate(spread):\n",
    "            y = all_missclass[i][j]\n",
    "            all_bounds_risk.append(y)\n",
    "            bound_touati = Touati_up_final(y, n, delta,a1)\n",
    "            bound_touati1=Touati_up_final(y, n, delta,a2)\n",
    "            bound_cesa = cesa_up_final(y, n, delta)\n",
    "            all_bounds_touati.append(bound_touati)\n",
    "            all_bounds_cesa.append(bound_cesa)\n",
    "        x = np.concatenate(all_list_n)\n",
    "\n",
    "    ax1.clear()\n",
    "\n",
    "    ax.plot(x, all_bounds_risk, label=\"Empirical risk\")\n",
    "\n",
    "    ax.plot(x, all_bounds_touati, label=\"Touati bound\")\n",
    "    ax.plot(x, all_bounds_cesa, label=\"Cesa bound\")\n",
    "    ax.set_yscale('log')\n",
    "    # ax.set_xscale('log')\n",
    "    ax.plot(x, [1]*len(x), '--', label=\"Limit\")\n",
    "    ax.set_title('Your title')\n",
    "    ax.set_ylabel('Risk')\n",
    "    ax.set_xlabel('n')\n",
    "    ax.legend(loc=0)    \n",
    "    \n",
    "ani = animation.FuncAnimation(fig, animate, interval=100)\n",
    "plt.show()"
   ]
  }
 ],
 "metadata": {
  "anaconda-cloud": {},
  "kernelspec": {
   "display_name": "Python [default]",
   "language": "python",
   "name": "python3"
  },
  "language_info": {
   "codemirror_mode": {
    "name": "ipython",
    "version": 3
   },
   "file_extension": ".py",
   "mimetype": "text/x-python",
   "name": "python",
   "nbconvert_exporter": "python",
   "pygments_lexer": "ipython3",
   "version": "3.5.6"
  },
  "widgets": {
   "state": {
    "10f1678ebd9944ec8932e8bd3af47afd": {
     "views": [
      {
       "cell_index": 9
      }
     ]
    },
    "2c124adb0c404f6d80212cdb5037dba2": {
     "views": [
      {
       "cell_index": 9
      }
     ]
    },
    "3239acd396c44e78891710dfce8762cb": {
     "views": [
      {
       "cell_index": 9
      }
     ]
    },
    "38eba3ee1fb94c4f8f83c7e1078f3ecc": {
     "views": [
      {
       "cell_index": 9
      }
     ]
    },
    "398febd3e26b43df913e32e8f0ed4129": {
     "views": [
      {
       "cell_index": 9
      }
     ]
    },
    "3b5f6703c8224c76a12bf0c95be2d14d": {
     "views": [
      {
       "cell_index": 9
      }
     ]
    },
    "3f0560572cb74251ae6c80b4cc0fc380": {
     "views": [
      {
       "cell_index": 9
      }
     ]
    },
    "41d120c469e7443ba87f11224b89206d": {
     "views": [
      {
       "cell_index": 9
      }
     ]
    },
    "5bc93bb63dc34033843adbf4a6556152": {
     "views": [
      {
       "cell_index": 9
      }
     ]
    },
    "5d5e509408264e528acceb2a642945a8": {
     "views": [
      {
       "cell_index": 9
      }
     ]
    },
    "5dc4746a03da46e4a18fd52e7ec0a023": {
     "views": [
      {
       "cell_index": 9
      }
     ]
    },
    "6fe4f916058e4074bc658ad15ecfdbe6": {
     "views": [
      {
       "cell_index": 9
      }
     ]
    },
    "72eeed04160346fe883c129dbf9ea758": {
     "views": [
      {
       "cell_index": 9
      }
     ]
    },
    "8aeeea72036f49c1a8ecd8c2cc485b90": {
     "views": [
      {
       "cell_index": 9
      }
     ]
    },
    "977144b4d1594afea7ade287d065fe40": {
     "views": [
      {
       "cell_index": 9
      }
     ]
    },
    "fd93ece0426142c28c41e9d3a97016b2": {
     "views": [
      {
       "cell_index": 9
      }
     ]
    }
   },
   "version": "1.2.0"
  }
 },
 "nbformat": 4,
 "nbformat_minor": 4
}
